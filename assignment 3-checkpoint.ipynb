{
 "cells": [
  {
   "cell_type": "code",
   "execution_count": null,
   "id": "6424429e",
   "metadata": {},
   "outputs": [],
   "source": [
    "1. Why are functions advantageous to have in your programs?"
   ]
  },
  {
   "cell_type": "code",
   "execution_count": null,
   "id": "bdb9cf52",
   "metadata": {},
   "outputs": [],
   "source": [
    "ans: functions can call any time in the program\n",
    "    when we need function just call function \n",
    "    we don't need to write program every time for same issue\n",
    "    program look more structured and clean\n",
    "    "
   ]
  },
  {
   "cell_type": "code",
   "execution_count": null,
   "id": "f85e31b4",
   "metadata": {},
   "outputs": [],
   "source": [
    "2. When does the code in a function run: when it's specified or when it's called?"
   ]
  },
  {
   "cell_type": "code",
   "execution_count": null,
   "id": "6bfda26b",
   "metadata": {},
   "outputs": [],
   "source": [
    "ans : when function called"
   ]
  },
  {
   "cell_type": "code",
   "execution_count": null,
   "id": "a4b5304e",
   "metadata": {},
   "outputs": [],
   "source": [
    "3. What statement creates a function?"
   ]
  },
  {
   "cell_type": "code",
   "execution_count": null,
   "id": "26243a37",
   "metadata": {},
   "outputs": [],
   "source": [
    "ans : def keyword create function"
   ]
  },
  {
   "cell_type": "code",
   "execution_count": null,
   "id": "16262cee",
   "metadata": {},
   "outputs": [],
   "source": [
    "4. What is the difference between a function and a function call?"
   ]
  },
  {
   "cell_type": "code",
   "execution_count": null,
   "id": "25f751d6",
   "metadata": {},
   "outputs": [],
   "source": [
    "ans : Function is just we created a function \n",
    "    function call : Function call is when we execute a program then we call function"
   ]
  },
  {
   "cell_type": "code",
   "execution_count": null,
   "id": "9b645e34",
   "metadata": {},
   "outputs": [],
   "source": [
    "5. How many global scopes are there in a Python program? How many local scopes?"
   ]
  },
  {
   "cell_type": "code",
   "execution_count": null,
   "id": "6b5bc6b5",
   "metadata": {},
   "outputs": [],
   "source": [
    "ans: if we create two variables with same name one is outside the function and one is\n",
    "    inside the function program will treat them 2 different variables outside the function is global variable\n",
    "    and inside the function is local variable, global variable we can use it any where in the program\n",
    "    and local variable can use inside the function.\n",
    "    "
   ]
  },
  {
   "cell_type": "code",
   "execution_count": null,
   "id": "399e65b9",
   "metadata": {},
   "outputs": [],
   "source": [
    "6. What happens to variables in a local scope when the function call returns?"
   ]
  },
  {
   "cell_type": "code",
   "execution_count": null,
   "id": "39eb77e5",
   "metadata": {},
   "outputs": [],
   "source": []
  },
  {
   "cell_type": "code",
   "execution_count": null,
   "id": "a8c7ebad",
   "metadata": {},
   "outputs": [],
   "source": [
    "7. What is the concept of a return value? Is it possible to have a return value in an expression? "
   ]
  },
  {
   "cell_type": "code",
   "execution_count": null,
   "id": "49d3a676",
   "metadata": {},
   "outputs": [],
   "source": [
    "return value is used in to end the function after call return no statement will run. "
   ]
  },
  {
   "cell_type": "code",
   "execution_count": null,
   "id": "99c4ddb6",
   "metadata": {},
   "outputs": [],
   "source": [
    "8. If a function does not have a return statement, what is the return value of a call to that function?"
   ]
  },
  {
   "cell_type": "code",
   "execution_count": null,
   "id": "242ea0cb",
   "metadata": {},
   "outputs": [],
   "source": [
    "it will return None."
   ]
  },
  {
   "cell_type": "code",
   "execution_count": null,
   "id": "5790a7c0",
   "metadata": {},
   "outputs": [],
   "source": [
    "9. How do you make a function variable refer to the global variable?"
   ]
  },
  {
   "cell_type": "code",
   "execution_count": 12,
   "id": "1196cf3c",
   "metadata": {},
   "outputs": [],
   "source": [
    "# we can define global varaibal outside a function that is global variable , \n",
    "# and inside a function a function with Global keyword , that variable become global variable.\n",
    "a=10\n",
    "\n",
    "def demo():\n",
    "    global a \n",
    "    a=a+5\n",
    "    print(a)\n",
    "    "
   ]
  },
  {
   "cell_type": "code",
   "execution_count": 13,
   "id": "ee1bf4e6",
   "metadata": {},
   "outputs": [
    {
     "name": "stdout",
     "output_type": "stream",
     "text": [
      "15\n"
     ]
    }
   ],
   "source": [
    "demo()"
   ]
  },
  {
   "cell_type": "code",
   "execution_count": 14,
   "id": "52856f09",
   "metadata": {},
   "outputs": [
    {
     "name": "stdout",
     "output_type": "stream",
     "text": [
      "15\n"
     ]
    }
   ],
   "source": [
    "print(a)"
   ]
  },
  {
   "cell_type": "code",
   "execution_count": 5,
   "id": "856a1f20",
   "metadata": {},
   "outputs": [
    {
     "name": "stdout",
     "output_type": "stream",
     "text": [
      "500\n"
     ]
    }
   ],
   "source": [
    "\n",
    "a = 500 # global variable\n",
    "\n",
    "def fun1(b):\n",
    "    print(a)\n",
    "    c=200  # local variable\n",
    "    d=b+c   # local variable\n",
    "    return d\n",
    "\n",
    "print(a)\n",
    "    "
   ]
  },
  {
   "cell_type": "code",
   "execution_count": 6,
   "id": "a9866b0f",
   "metadata": {},
   "outputs": [
    {
     "name": "stdout",
     "output_type": "stream",
     "text": [
      "500\n"
     ]
    },
    {
     "data": {
      "text/plain": [
       "300"
      ]
     },
     "execution_count": 6,
     "metadata": {},
     "output_type": "execute_result"
    }
   ],
   "source": [
    "fun1(100)"
   ]
  },
  {
   "cell_type": "code",
   "execution_count": null,
   "id": "514ec70c",
   "metadata": {},
   "outputs": [],
   "source": [
    "10. What is the data type of None?"
   ]
  },
  {
   "cell_type": "code",
   "execution_count": 29,
   "id": "321143e4",
   "metadata": {},
   "outputs": [
    {
     "name": "stdout",
     "output_type": "stream",
     "text": [
      "None\n"
     ]
    },
    {
     "data": {
      "text/plain": [
       "NoneType"
      ]
     },
     "execution_count": 29,
     "metadata": {},
     "output_type": "execute_result"
    }
   ],
   "source": [
    "data type of noen is NoneType\n",
    "\n",
    "a= None\n",
    "print(a)\n",
    "type(a)"
   ]
  },
  {
   "cell_type": "code",
   "execution_count": null,
   "id": "969cfab2",
   "metadata": {},
   "outputs": [],
   "source": [
    "11. What does the sentence import areallyourpetsnamederic do?"
   ]
  },
  {
   "cell_type": "code",
   "execution_count": null,
   "id": "c79c8390",
   "metadata": {},
   "outputs": [],
   "source": [
    "not a correct import statement\n"
   ]
  },
  {
   "cell_type": "code",
   "execution_count": null,
   "id": "9a575c35",
   "metadata": {},
   "outputs": [],
   "source": [
    "12. If you had a bacon() feature in a spam module, what would you call it after importing spam?"
   ]
  },
  {
   "cell_type": "code",
   "execution_count": null,
   "id": "11dae3da",
   "metadata": {},
   "outputs": [],
   "source": []
  },
  {
   "cell_type": "code",
   "execution_count": null,
   "id": "82398604",
   "metadata": {},
   "outputs": [],
   "source": [
    "13. What can you do to save a programme from crashing if it encounters an error?"
   ]
  },
  {
   "cell_type": "code",
   "execution_count": null,
   "id": "8d65c842",
   "metadata": {},
   "outputs": [],
   "source": [
    "exception handling"
   ]
  },
  {
   "cell_type": "code",
   "execution_count": null,
   "id": "be30967e",
   "metadata": {},
   "outputs": [],
   "source": [
    "14. What is the purpose of the try clause? What is the purpose of the except clause?"
   ]
  },
  {
   "cell_type": "code",
   "execution_count": null,
   "id": "95615863",
   "metadata": {},
   "outputs": [],
   "source": [
    "we use exception handling to handle errors.\n",
    "using try and except blocks\n",
    "\n",
    "in try block write program which may have expect error \n",
    "and in except block that handle exception "
   ]
  }
 ],
 "metadata": {
  "kernelspec": {
   "display_name": "Python 3 (ipykernel)",
   "language": "python",
   "name": "python3"
  },
  "language_info": {
   "codemirror_mode": {
    "name": "ipython",
    "version": 3
   },
   "file_extension": ".py",
   "mimetype": "text/x-python",
   "name": "python",
   "nbconvert_exporter": "python",
   "pygments_lexer": "ipython3",
   "version": "3.10.9"
  }
 },
 "nbformat": 4,
 "nbformat_minor": 5
}
